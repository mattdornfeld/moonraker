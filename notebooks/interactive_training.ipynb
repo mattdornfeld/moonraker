{
 "cells": [
  {
   "cell_type": "code",
   "execution_count": 1,
   "metadata": {},
   "outputs": [
    {
     "ename": "KeyError",
     "evalue": "'POSTGRES_PASSWORD'",
     "output_type": "error",
     "traceback": [
      "\u001b[0;31m---------------------------------------------------------------------------\u001b[0m",
      "\u001b[0;31mKeyError\u001b[0m                                  Traceback (most recent call last)",
      "\u001b[0;32m<ipython-input-1-2fdc38ce9887>\u001b[0m in \u001b[0;36m<module>\u001b[0;34m()\u001b[0m\n\u001b[1;32m      4\u001b[0m \u001b[0;32mfrom\u001b[0m \u001b[0mcoinbase_train\u001b[0m \u001b[0;32mimport\u001b[0m \u001b[0mconstants\u001b[0m \u001b[0;32mas\u001b[0m \u001b[0mc\u001b[0m\u001b[0;34m\u001b[0m\u001b[0;34m\u001b[0m\u001b[0m\n\u001b[1;32m      5\u001b[0m \u001b[0;32mfrom\u001b[0m \u001b[0mcoinbase_train\u001b[0m \u001b[0;32mimport\u001b[0m \u001b[0mutils\u001b[0m\u001b[0;34m\u001b[0m\u001b[0;34m\u001b[0m\u001b[0m\n\u001b[0;32m----> 6\u001b[0;31m \u001b[0;32mfrom\u001b[0m \u001b[0mcoinbase_train\u001b[0m\u001b[0;34m.\u001b[0m\u001b[0menvironment\u001b[0m \u001b[0;32mimport\u001b[0m \u001b[0mMockEnvironment\u001b[0m\u001b[0;34m\u001b[0m\u001b[0;34m\u001b[0m\u001b[0m\n\u001b[0m\u001b[1;32m      7\u001b[0m \u001b[0;32mfrom\u001b[0m \u001b[0mcoinbase_train\u001b[0m\u001b[0;34m.\u001b[0m\u001b[0mmodel\u001b[0m \u001b[0;32mimport\u001b[0m \u001b[0mbuild_actor\u001b[0m\u001b[0;34m,\u001b[0m \u001b[0mbuild_critic\u001b[0m\u001b[0;34m\u001b[0m\u001b[0;34m\u001b[0m\u001b[0m\n\u001b[1;32m      8\u001b[0m \u001b[0;32mfrom\u001b[0m \u001b[0mcoinbase_train\u001b[0m\u001b[0;34m.\u001b[0m\u001b[0mtrain\u001b[0m \u001b[0;32mimport\u001b[0m \u001b[0mcreate_agent\u001b[0m\u001b[0;34m\u001b[0m\u001b[0;34m\u001b[0m\u001b[0m\n",
      "\u001b[0;32m~/projects/moonraker/coinbase_train/coinbase_train/environment.py\u001b[0m in \u001b[0;36m<module>\u001b[0;34m()\u001b[0m\n\u001b[1;32m      6\u001b[0m \u001b[0;32mimport\u001b[0m \u001b[0mnumpy\u001b[0m \u001b[0;32mas\u001b[0m \u001b[0mnp\u001b[0m\u001b[0;34m\u001b[0m\u001b[0;34m\u001b[0m\u001b[0m\n\u001b[1;32m      7\u001b[0m \u001b[0;34m\u001b[0m\u001b[0m\n\u001b[0;32m----> 8\u001b[0;31m \u001b[0;32mfrom\u001b[0m \u001b[0mfakebase\u001b[0m\u001b[0;34m.\u001b[0m\u001b[0mconstants\u001b[0m \u001b[0;32mimport\u001b[0m \u001b[0mPRECISION\u001b[0m\u001b[0;34m\u001b[0m\u001b[0;34m\u001b[0m\u001b[0m\n\u001b[0m\u001b[1;32m      9\u001b[0m \u001b[0;32mfrom\u001b[0m \u001b[0mfakebase\u001b[0m\u001b[0;34m.\u001b[0m\u001b[0mmock_auth_client\u001b[0m \u001b[0;32mimport\u001b[0m \u001b[0mMockAuthenticatedClient\u001b[0m\u001b[0;34m\u001b[0m\u001b[0;34m\u001b[0m\u001b[0m\n\u001b[1;32m     10\u001b[0m \u001b[0;32mfrom\u001b[0m \u001b[0mfakebase\u001b[0m\u001b[0;34m.\u001b[0m\u001b[0mutils\u001b[0m \u001b[0;32mimport\u001b[0m \u001b[0mIllegalTransactionException\u001b[0m\u001b[0;34m\u001b[0m\u001b[0;34m\u001b[0m\u001b[0m\n",
      "\u001b[0;32m~/projects/moonraker/fakebase/fakebase/constants.py\u001b[0m in \u001b[0;36m<module>\u001b[0;34m()\u001b[0m\n\u001b[1;32m     22\u001b[0m \u001b[0mDB_PORT\u001b[0m \u001b[0;34m=\u001b[0m \u001b[0mos\u001b[0m\u001b[0;34m.\u001b[0m\u001b[0menviron\u001b[0m\u001b[0;34m.\u001b[0m\u001b[0mget\u001b[0m\u001b[0;34m(\u001b[0m\u001b[0;34m'DB_PORT'\u001b[0m\u001b[0;34m,\u001b[0m \u001b[0;34m'5432'\u001b[0m\u001b[0;34m)\u001b[0m\u001b[0;34m\u001b[0m\u001b[0;34m\u001b[0m\u001b[0m\n\u001b[1;32m     23\u001b[0m \u001b[0mPOSTGRES_USERNAME\u001b[0m \u001b[0;34m=\u001b[0m \u001b[0mos\u001b[0m\u001b[0;34m.\u001b[0m\u001b[0menviron\u001b[0m\u001b[0;34m.\u001b[0m\u001b[0mget\u001b[0m\u001b[0;34m(\u001b[0m\u001b[0;34m'POSTGRES_USERNAME'\u001b[0m\u001b[0;34m,\u001b[0m \u001b[0;34m'postgres'\u001b[0m\u001b[0;34m)\u001b[0m\u001b[0;34m\u001b[0m\u001b[0;34m\u001b[0m\u001b[0m\n\u001b[0;32m---> 24\u001b[0;31m \u001b[0mPOSTGRES_PASSWORD\u001b[0m \u001b[0;34m=\u001b[0m \u001b[0mos\u001b[0m\u001b[0;34m.\u001b[0m\u001b[0menviron\u001b[0m\u001b[0;34m[\u001b[0m\u001b[0;34m'POSTGRES_PASSWORD'\u001b[0m\u001b[0;34m]\u001b[0m\u001b[0;34m\u001b[0m\u001b[0;34m\u001b[0m\u001b[0m\n\u001b[0m\u001b[1;32m     25\u001b[0m \u001b[0mPRECISION\u001b[0m \u001b[0;34m=\u001b[0m \u001b[0mdict\u001b[0m\u001b[0;34m(\u001b[0m\u001b[0mBTC\u001b[0m\u001b[0;34m=\u001b[0m\u001b[0;36m5\u001b[0m\u001b[0;34m,\u001b[0m \u001b[0mUSD\u001b[0m\u001b[0;34m=\u001b[0m\u001b[0;36m2\u001b[0m\u001b[0;34m)\u001b[0m\u001b[0;34m\u001b[0m\u001b[0;34m\u001b[0m\u001b[0m\n\u001b[1;32m     26\u001b[0m \u001b[0mPRODUCT_ID\u001b[0m \u001b[0;34m=\u001b[0m \u001b[0;34m'BTC-USD'\u001b[0m\u001b[0;34m\u001b[0m\u001b[0;34m\u001b[0m\u001b[0m\n",
      "\u001b[0;32m/usr/lib/python3.6/os.py\u001b[0m in \u001b[0;36m__getitem__\u001b[0;34m(self, key)\u001b[0m\n\u001b[1;32m    667\u001b[0m         \u001b[0;32mexcept\u001b[0m \u001b[0mKeyError\u001b[0m\u001b[0;34m:\u001b[0m\u001b[0;34m\u001b[0m\u001b[0;34m\u001b[0m\u001b[0m\n\u001b[1;32m    668\u001b[0m             \u001b[0;31m# raise KeyError with the original key value\u001b[0m\u001b[0;34m\u001b[0m\u001b[0;34m\u001b[0m\u001b[0;34m\u001b[0m\u001b[0m\n\u001b[0;32m--> 669\u001b[0;31m             \u001b[0;32mraise\u001b[0m \u001b[0mKeyError\u001b[0m\u001b[0;34m(\u001b[0m\u001b[0mkey\u001b[0m\u001b[0;34m)\u001b[0m \u001b[0;32mfrom\u001b[0m \u001b[0;32mNone\u001b[0m\u001b[0;34m\u001b[0m\u001b[0;34m\u001b[0m\u001b[0m\n\u001b[0m\u001b[1;32m    670\u001b[0m         \u001b[0;32mreturn\u001b[0m \u001b[0mself\u001b[0m\u001b[0;34m.\u001b[0m\u001b[0mdecodevalue\u001b[0m\u001b[0;34m(\u001b[0m\u001b[0mvalue\u001b[0m\u001b[0;34m)\u001b[0m\u001b[0;34m\u001b[0m\u001b[0;34m\u001b[0m\u001b[0m\n\u001b[1;32m    671\u001b[0m \u001b[0;34m\u001b[0m\u001b[0m\n",
      "\u001b[0;31mKeyError\u001b[0m: 'POSTGRES_PASSWORD'"
     ]
    }
   ],
   "source": [
    "from datetime import timedelta\n",
    "from dateutil import parser\n",
    "\n",
    "from coinbase_train import constants as c\n",
    "from coinbase_train import utils\n",
    "from coinbase_train.environment import MockEnvironment\n",
    "from coinbase_train.model import build_actor, build_critic\n",
    "from coinbase_train.train import create_agent"
   ]
  },
  {
   "cell_type": "code",
   "execution_count": 11,
   "metadata": {},
   "outputs": [],
   "source": [
    "    hyper_params = dict(  #pylint: disable=W0612\n",
    "        actor_account_funds_attention_dim=100,\n",
    "        actor_account_funds_hidden_dim=100, \n",
    "        actor_account_orders_num_filters=100, \n",
    "        actor_account_orders_attention_dim=100, \n",
    "        actor_matches_attention_dim=100, \n",
    "        actor_matches_num_filters=100, \n",
    "        actor_merged_branch_attention_dim=100, \n",
    "        actor_merged_branch_num_filters=100, \n",
    "        actor_order_book_num_filters=100, \n",
    "        actor_order_book_kernel_size=4, \n",
    "        actor_orders_attention_dim=100, \n",
    "        actor_orders_num_filters=100,\n",
    "        batch_size=10,\n",
    "        critic_account_funds_attention_dim=100, \n",
    "        critic_account_funds_hidden_dim=100, \n",
    "        critic_account_orders_num_filters=100, \n",
    "        critic_account_orders_attention_dim=100, \n",
    "        critic_matches_attention_dim=100, \n",
    "        critic_matches_num_filters=100, \n",
    "        critic_merged_branch_attention_dim=100, \n",
    "        critic_merged_branch_num_filters=100, \n",
    "        critic_order_book_num_filters=100, \n",
    "        critic_order_book_kernel_size=4, \n",
    "        critic_orders_attention_dim=100, \n",
    "        critic_orders_num_filters=100,\n",
    "        critic_output_branch_hidden_dim=100,\n",
    "        num_time_steps=c.NUM_TIME_STEPS)  \n",
    "\n",
    "    train_environment_configs = dict(  #pylint: disable=W0612\n",
    "        end_dt=parser.parse('2019-01-28 04:13:36.79'),\n",
    "        initial_btc=0,\n",
    "        initial_usd=10000,\n",
    "        num_episodes=1,\n",
    "        start_dt=parser.parse('2019-01-28 03:13:36.79'),\n",
    "        time_delta=timedelta(seconds=10)\n",
    "        )\n",
    "\n",
    "    test_environment_configs = dict(  #pylint: disable=W0612\n",
    "        end_dt=parser.parse('2019-01-28 05:13:36.79'),\n",
    "        initial_btc=0,\n",
    "        initial_usd=10000,\n",
    "        num_episodes=1,\n",
    "        start_dt=parser.parse('2019-01-28 04:13:36.79'),\n",
    "        time_delta=timedelta(seconds=10)\n",
    "        )"
   ]
  },
  {
   "cell_type": "code",
   "execution_count": 12,
   "metadata": {},
   "outputs": [],
   "source": [
    "hyper_params = utils.HyperParameters(**hyper_params)\n",
    "test_environment_configs = utils.EnvironmentConfigs(**test_environment_configs)\n",
    "train_environment_configs = utils.EnvironmentConfigs(**train_environment_configs)"
   ]
  },
  {
   "cell_type": "code",
   "execution_count": 13,
   "metadata": {},
   "outputs": [],
   "source": [
    "actor = build_actor(\n",
    "    account_funds_attention_dim=hyper_params.actor_account_funds_attention_dim, \n",
    "    account_funds_hidden_dim=hyper_params.actor_account_funds_hidden_dim, \n",
    "    account_orders_num_filters=hyper_params.actor_account_orders_num_filters, \n",
    "    account_orders_attention_dim=hyper_params.actor_account_orders_attention_dim,\n",
    "    matches_attention_dim=hyper_params.actor_matches_attention_dim,\n",
    "    matches_num_filters=hyper_params.actor_matches_num_filters,\n",
    "    merged_branch_attention_dim=hyper_params.actor_merged_branch_attention_dim,\n",
    "    merged_branch_num_filters=hyper_params.actor_merged_branch_num_filters,\n",
    "    order_book_num_filters=hyper_params.actor_order_book_num_filters,\n",
    "    order_book_kernel_size=hyper_params.actor_order_book_kernel_size,\n",
    "    orders_attention_dim=hyper_params.actor_orders_attention_dim,\n",
    "    orders_num_filters=hyper_params.actor_orders_num_filters)\n",
    "\n",
    "critic = build_critic(\n",
    "    account_funds_attention_dim=hyper_params.critic_account_funds_attention_dim, \n",
    "    account_funds_hidden_dim=hyper_params.critic_account_funds_hidden_dim,\n",
    "    account_orders_num_filters=hyper_params.critic_account_orders_num_filters, \n",
    "    account_orders_attention_dim=hyper_params.critic_account_orders_attention_dim,\n",
    "    matches_attention_dim=hyper_params.critic_matches_attention_dim,\n",
    "    matches_num_filters=hyper_params.critic_matches_num_filters,\n",
    "    merged_branch_attention_dim=hyper_params.critic_merged_branch_attention_dim,\n",
    "    merged_branch_num_filters=hyper_params.critic_merged_branch_num_filters,\n",
    "    order_book_num_filters=hyper_params.critic_order_book_num_filters,\n",
    "    order_book_kernel_size=hyper_params.critic_order_book_kernel_size,\n",
    "    orders_attention_dim=hyper_params.critic_orders_attention_dim,\n",
    "    orders_num_filters=hyper_params.critic_orders_num_filters,\n",
    "    output_branch_hidden_dim=hyper_params.critic_output_branch_hidden_dim)\n",
    "\n",
    "train_environment = MockEnvironment(\n",
    "    end_dt=train_environment_configs.end_dt,\n",
    "    initial_usd=train_environment_configs.initial_usd,\n",
    "    initial_btc=train_environment_configs.initial_btc, \n",
    "    num_workers=c.NUM_DATABASE_WORKERS,\n",
    "    num_time_steps=hyper_params.num_time_steps,\n",
    "    start_dt=train_environment_configs.start_dt,\n",
    "    time_delta=train_environment_configs.time_delta)\n",
    "\n",
    "agent = create_agent(\n",
    "    actor=actor,\n",
    "    critic=critic,\n",
    "    hyper_params=hyper_params)\n",
    "\n",
    "nb_max_episode_steps = utils.calc_nb_max_episode_steps(\n",
    "    end_dt=train_environment_configs.end_dt,\n",
    "    start_dt=train_environment_configs.start_dt,\n",
    "    time_delta=train_environment_configs.time_delta)"
   ]
  },
  {
   "cell_type": "code",
   "execution_count": 14,
   "metadata": {},
   "outputs": [
    {
     "name": "stdout",
     "output_type": "stream",
     "text": [
      "Training for 36 steps ...\n",
      "  3/36: episode: 1, duration: 53.688s, episode steps: 3, steps per second: 0, episode reward: 0.000, mean reward: 0.000 [0.000, 0.000], mean action: 0.275 [-0.153, 0.527], mean observation: 0.000 [0.000, 0.000], loss: 0.000980, mean_q: 0.075135\n",
      " 18/36: episode: 2, duration: 45.986s, episode steps: 15, steps per second: 0, episode reward: 0.000, mean reward: 0.000 [0.000, 0.000], mean action: 0.297 [-0.273, 0.684], mean observation: 0.000 [0.000, 0.000], loss: 0.001504, mean_q: 0.105653\n",
      " 36/36: episode: 3, duration: 57.273s, episode steps: 18, steps per second: 0, episode reward: 0.000, mean reward: 0.000 [0.000, 0.000], mean action: 0.250 [-0.159, 0.633], mean observation: 0.000 [0.000, 0.000], loss: 0.001963, mean_q: 0.098116\n",
      "done, took 156.953 seconds\n"
     ]
    }
   ],
   "source": [
    "history = agent.fit(\n",
    "    env=train_environment, \n",
    "    log_interval=nb_max_episode_steps,\n",
    "    nb_max_episode_steps=nb_max_episode_steps, \n",
    "    nb_steps=train_environment_configs.num_episodes * nb_max_episode_steps,\n",
    "    verbose=2) "
   ]
  },
  {
   "cell_type": "code",
   "execution_count": null,
   "metadata": {},
   "outputs": [],
   "source": []
  }
 ],
 "metadata": {
  "kernelspec": {
   "display_name": "Python 3",
   "language": "python",
   "name": "python3"
  },
  "language_info": {
   "codemirror_mode": {
    "name": "ipython",
    "version": 3
   },
   "file_extension": ".py",
   "mimetype": "text/x-python",
   "name": "python",
   "nbconvert_exporter": "python",
   "pygments_lexer": "ipython3",
   "version": "3.6.7"
  }
 },
 "nbformat": 4,
 "nbformat_minor": 2
}
