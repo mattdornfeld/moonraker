{
 "cells": [
  {
   "cell_type": "code",
   "execution_count": 10,
   "metadata": {},
   "outputs": [],
   "source": [
    "from datetime import timedelta\n",
    "from dateutil import parser\n",
    "\n",
    "from coinbase_train import constants as c\n",
    "from coinbase_train import utils\n",
    "from coinbase_train.environment import MockEnvironment\n",
    "from coinbase_train.model import build_actor, build_critic\n",
    "from coinbase_train.train import create_agent"
   ]
  },
  {
   "cell_type": "code",
   "execution_count": 11,
   "metadata": {},
   "outputs": [],
   "source": [
    "hyper_params = dict( \n",
    "    actor_account_funds_attention_dim=100,\n",
    "    actor_account_funds_hidden_dim=100, \n",
    "    actor_account_orders_hidden_dim=100, \n",
    "    actor_account_orders_attention_dim=100, \n",
    "    actor_matches_attention_dim=100, \n",
    "    actor_matches_hidden_dim=100, \n",
    "    actor_merged_branch_attention_dim=100, \n",
    "    actor_merged_branch_hidden_dim=100, \n",
    "    actor_order_book_num_filters=100, \n",
    "    actor_order_book_kernel_size=4, \n",
    "    actor_orders_attention_dim=100, \n",
    "    actor_orders_hidden_dim=100,\n",
    "    batch_size=1,\n",
    "    critic_account_funds_attention_dim=100, \n",
    "    critic_account_funds_hidden_dim=100, \n",
    "    critic_account_orders_hidden_dim=100, \n",
    "    critic_account_orders_attention_dim=100, \n",
    "    critic_matches_attention_dim=100, \n",
    "    critic_matches_hidden_dim=100, \n",
    "    critic_merged_branch_attention_dim=100, \n",
    "    critic_merged_branch_hidden_dim=100, \n",
    "    critic_order_book_num_filters=100, \n",
    "    critic_order_book_kernel_size=4, \n",
    "    critic_orders_attention_dim=100, \n",
    "    critic_orders_hidden_dim=100,\n",
    "    critic_output_branch_hidden_dim=100,\n",
    "    num_time_steps=c.NUM_TIME_STEPS)  \n",
    "\n",
    "train_environment_configs = dict( \n",
    "    end_dt=parser.parse('2019-01-18 05:19:59.264'),\n",
    "    initial_btc=0,\n",
    "    initial_usd=10000,\n",
    "    num_episodes=2,\n",
    "    start_dt=parser.parse('2019-01-17 05:19:59.264'),\n",
    "    time_delta=timedelta(seconds=10)\n",
    "    )\n",
    "\n",
    "test_environment_configs = dict( \n",
    "    end_dt=parser.parse('2019-01-19 05:19:59.264'),\n",
    "    initial_btc=0,\n",
    "    initial_usd=10000,\n",
    "    num_episodes=2,\n",
    "    start_dt=parser.parse('2019-01-18 05:19:59.264'),\n",
    "    time_delta=timedelta(seconds=10)\n",
    "    )"
   ]
  },
  {
   "cell_type": "code",
   "execution_count": 12,
   "metadata": {},
   "outputs": [],
   "source": [
    "hyper_params = utils.HyperParameters(**hyper_params)\n",
    "test_environment_configs = utils.EnvironmentConfigs(**test_environment_configs)\n",
    "train_environment_configs = utils.EnvironmentConfigs(**train_environment_configs)"
   ]
  },
  {
   "cell_type": "code",
   "execution_count": 13,
   "metadata": {},
   "outputs": [],
   "source": [
    "actor = build_actor(\n",
    "    account_funds_attention_dim=hyper_params.actor_account_funds_attention_dim,\n",
    "    account_funds_hidden_dim=hyper_params.actor_account_funds_hidden_dim,\n",
    "    account_orders_attention_dim=hyper_params.actor_account_orders_attention_dim,\n",
    "    account_orders_hidden_dim=hyper_params.actor_account_orders_hidden_dim,\n",
    "    matches_attention_dim=hyper_params.actor_matches_attention_dim,\n",
    "    matches_hidden_dim=hyper_params.actor_matches_hidden_dim,\n",
    "    merged_branch_attention_dim=hyper_params.actor_merged_branch_attention_dim,\n",
    "    merged_branch_hidden_dim=hyper_params.actor_merged_branch_hidden_dim,\n",
    "    order_book_kernel_size=hyper_params.actor_order_book_kernel_size,\n",
    "    order_book_num_filters=hyper_params.actor_order_book_num_filters,\n",
    "    orders_attention_dim=hyper_params.actor_orders_attention_dim,\n",
    "    orders_hidden_dim=hyper_params.actor_orders_hidden_dim) \n",
    "\n",
    "critic = build_critic(\n",
    "    account_funds_attention_dim=hyper_params.critic_account_funds_attention_dim,\n",
    "    account_funds_hidden_dim=hyper_params.critic_account_funds_hidden_dim,\n",
    "    account_orders_attention_dim=hyper_params.critic_account_orders_attention_dim,\n",
    "    account_orders_hidden_dim=hyper_params.critic_account_orders_hidden_dim,\n",
    "    matches_attention_dim=hyper_params.critic_matches_attention_dim,\n",
    "    matches_hidden_dim=hyper_params.critic_matches_hidden_dim,\n",
    "    merged_branch_attention_dim=hyper_params.critic_merged_branch_attention_dim,\n",
    "    merged_branch_hidden_dim=hyper_params.critic_merged_branch_hidden_dim,\n",
    "    order_book_kernel_size=hyper_params.critic_order_book_kernel_size,\n",
    "    order_book_num_filters=hyper_params.critic_order_book_num_filters,\n",
    "    orders_attention_dim=hyper_params.critic_orders_attention_dim,\n",
    "    orders_hidden_dim=hyper_params.critic_orders_hidden_dim,\n",
    "    output_branch_hidden_dim=hyper_params.critic_output_branch_hidden_dim)\n",
    "\n",
    "train_environment = MockEnvironment(\n",
    "    end_dt=train_environment_configs.end_dt,\n",
    "    initial_usd=train_environment_configs.initial_usd,\n",
    "    initial_btc=train_environment_configs.initial_btc, \n",
    "    num_workers=c.NUM_DATABASE_WORKERS,\n",
    "    num_time_steps=hyper_params.num_time_steps,\n",
    "    start_dt=train_environment_configs.start_dt,\n",
    "    time_delta=train_environment_configs.time_delta)\n",
    "\n",
    "agent = create_agent(\n",
    "    actor=actor,\n",
    "    critic=critic,\n",
    "    hyper_params=hyper_params)\n",
    "\n",
    "nb_max_episode_steps = utils.calc_nb_max_episode_steps(\n",
    "    end_dt=train_environment_configs.end_dt,\n",
    "    start_dt=train_environment_configs.start_dt,\n",
    "    time_delta=train_environment_configs.time_delta)"
   ]
  },
  {
   "cell_type": "code",
   "execution_count": 14,
   "metadata": {},
   "outputs": [
    {
     "name": "stdout",
     "output_type": "stream",
     "text": [
      "Training for 36 steps ...\n",
      "  3/36: episode: 1, duration: 53.688s, episode steps: 3, steps per second: 0, episode reward: 0.000, mean reward: 0.000 [0.000, 0.000], mean action: 0.275 [-0.153, 0.527], mean observation: 0.000 [0.000, 0.000], loss: 0.000980, mean_q: 0.075135\n",
      " 18/36: episode: 2, duration: 45.986s, episode steps: 15, steps per second: 0, episode reward: 0.000, mean reward: 0.000 [0.000, 0.000], mean action: 0.297 [-0.273, 0.684], mean observation: 0.000 [0.000, 0.000], loss: 0.001504, mean_q: 0.105653\n",
      " 36/36: episode: 3, duration: 57.273s, episode steps: 18, steps per second: 0, episode reward: 0.000, mean reward: 0.000 [0.000, 0.000], mean action: 0.250 [-0.159, 0.633], mean observation: 0.000 [0.000, 0.000], loss: 0.001963, mean_q: 0.098116\n",
      "done, took 156.953 seconds\n"
     ]
    }
   ],
   "source": [
    "history = agent.fit(\n",
    "    env=train_environment, \n",
    "    log_interval=nb_max_episode_steps,\n",
    "    nb_max_episode_steps=nb_max_episode_steps, \n",
    "    nb_steps=train_environment_configs.num_episodes * nb_max_episode_steps,\n",
    "    verbose=2) "
   ]
  },
  {
   "cell_type": "code",
   "execution_count": null,
   "metadata": {},
   "outputs": [],
   "source": []
  }
 ],
 "metadata": {
  "kernelspec": {
   "display_name": "Python 3",
   "language": "python",
   "name": "python3"
  },
  "language_info": {
   "codemirror_mode": {
    "name": "ipython",
    "version": 3
   },
   "file_extension": ".py",
   "mimetype": "text/x-python",
   "name": "python",
   "nbconvert_exporter": "python",
   "pygments_lexer": "ipython3",
   "version": "3.6.7"
  }
 },
 "nbformat": 4,
 "nbformat_minor": 2
}
