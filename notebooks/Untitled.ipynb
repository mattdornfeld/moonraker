{
 "cells": [
  {
   "cell_type": "code",
   "execution_count": 1,
   "metadata": {},
   "outputs": [
    {
     "data": {
      "text/plain": [
       "\u001b[36mpath\u001b[39m: \u001b[32mjava\u001b[39m.\u001b[32mnio\u001b[39m.\u001b[32mfile\u001b[39m.\u001b[32mPath\u001b[39m = /tmp/moonraker/coinbaseml/coinbaseml.jar"
      ]
     },
     "execution_count": 1,
     "metadata": {},
     "output_type": "execute_result"
    }
   ],
   "source": [
    "val path = java.nio.file.FileSystems.getDefault().getPath(\"/tmp/moonraker/coinbaseml/coinbaseml.jar\")\n",
    "interp.load.cp(ammonite.ops.Path(path))"
   ]
  },
  {
   "cell_type": "code",
   "execution_count": 2,
   "metadata": {},
   "outputs": [],
   "source": [
    "import java.time.{Duration, Instant}\n",
    "\n",
    "import co.firstorderlabs.coinbaseml.fakebase.Exchange\n",
    "import co.firstorderlabs.common.protos.environment.ObservationRequest\n",
    "import co.firstorderlabs.common.protos.fakebase.{SimulationStartRequest, SimulationType}\n",
    "import co.firstorderlabs.common.currency.Configs.ProductPrice.{ProductVolume, QuoteVolume}"
   ]
  },
  {
   "cell_type": "code",
   "execution_count": 7,
   "metadata": {},
   "outputs": [
    {
     "data": {
      "text/plain": [
       "\u001b[32mimport \u001b[39m\u001b[36mco.firstorderlabs.coinbaseml.fakebase.sql.{LocalStorage, QueryResult}\n",
       "\u001b[39m\n",
       "\u001b[32mimport \u001b[39m\u001b[36mco.firstorderlabs.coinbaseml.fakebase.utils.OrderUtils\n",
       "\u001b[39m\n",
       "\u001b[32mimport \u001b[39m\u001b[36mco.firstorderlabs.common.protos.events.{OrderSide, BuyLimitOrder, OrderStatus}\n",
       "\u001b[39m\n",
       "\u001b[32mimport \u001b[39m\u001b[36mco.firstorderlabs.common.currency.Configs.ProductPrice.ProductVolume\n",
       "\u001b[39m\n",
       "\u001b[32mimport \u001b[39m\u001b[36mco.firstorderlabs.common.currency.Configs.ProductPrice\n",
       "\u001b[39m\n",
       "\u001b[32mimport \u001b[39m\u001b[36mco.firstorderlabs.common.types.Types.TimeInterval\n",
       "\n",
       "\u001b[39m\n",
       "\u001b[36mstartTime\u001b[39m: \u001b[32mInstant\u001b[39m = 2020-11-09T00:00:00Z\n",
       "\u001b[36mendTime\u001b[39m: \u001b[32mInstant\u001b[39m = 2020-11-09T00:10:00Z\n",
       "\u001b[36mtimeInterval\u001b[39m: \u001b[32mTimeInterval\u001b[39m = \u001b[33mTimeInterval\u001b[39m(\n",
       "  2020-11-09T00:00:00Z,\n",
       "  2020-11-09T00:10:00Z\n",
       ")\n",
       "\u001b[36mlowerOrder\u001b[39m: \u001b[32mBuyLimitOrder\u001b[39m = \u001b[33mBuyLimitOrder\u001b[39m(\n",
       "  \u001b[33mOrderId\u001b[39m(\u001b[32m\"3f90dabd-6e11-4427-9ac0-1026c39e79e9\"\u001b[39m),\n",
       "  open,\n",
       "  <BtcUsdPrice 1000.00>,\n",
       "  \u001b[33mProductId\u001b[39m(BTC, USD),\n",
       "  buy,\n",
       "  <BtcVolume 1.00000000>,\n",
       "  2020-12-15T18:56:00.998382Z,\n",
       "  notRejected,\n",
       "  \u001b[33mOrderRequestId\u001b[39m(\u001b[32m\"\"\u001b[39m),\n",
       "  2020-12-15T18:56:00.998396Z,\n",
       "  notDone,\n",
       "  \u001b[32mNone\u001b[39m,\n",
       "  \u001b[32mNone\u001b[39m\n",
       ")\n",
       "\u001b[36mqueryResult\u001b[39m: \u001b[32mQueryResult\u001b[39m = \u001b[33mQueryResult\u001b[39m(\n",
       "  \u001b[33mList\u001b[39m(\n",
       "    \u001b[33mBuyLimitOrder\u001b[39m(\n",
       "      \u001b[33mOrderId\u001b[39m(\u001b[32m\"3f90dabd-6e11-4427-9ac0-1026c39e79e9\"\u001b[39m),\n",
       "      open,\n",
       "      <BtcUsdPrice 1000.00>,\n",
       "      \u001b[33mProductId\u001b[39m(BTC, USD),\n",
       "      buy,\n",
       "      <BtcVolume 1.00000000>,\n",
       "      2020-12-15T18:56:00.998382Z,\n",
       "      notRejected,\n",
       "      \u001b[33mOrderRequestId\u001b[39m(\u001b[32m\"\"\u001b[39m),\n",
       "      2020-12-15T18:56:00.998396Z,\n",
       "      notDone,\n",
       "      \u001b[32mNone\u001b[39m,\n",
       "      \u001b[32mNone\u001b[39m\n",
       "    )\n",
       "  ),\n",
       "  \u001b[33mTimeInterval\u001b[39m(2020-11-09T00:00:00Z, 2020-11-09T00:10:00Z)\n",
       ")\n",
       "\u001b[36mres6_11\u001b[39m: \u001b[32mOption\u001b[39m[\u001b[32mQueryResult\u001b[39m] = \u001b[33mSome\u001b[39m(\n",
       "  \u001b[33mQueryResult\u001b[39m(\n",
       "    \u001b[33mList\u001b[39m(\n",
       "      \u001b[33mBuyLimitOrder\u001b[39m(\n",
       "        \u001b[33mOrderId\u001b[39m(\u001b[32m\"3f90dabd-6e11-4427-9ac0-1026c39e79e9\"\u001b[39m),\n",
       "        open,\n",
       "        <BtcUsdPrice 1000.00>,\n",
       "        \u001b[33mProductId\u001b[39m(BTC, USD),\n",
       "        buy,\n",
       "        <BtcVolume 1.00000000>,\n",
       "        2020-12-15T18:56:00.998382Z,\n",
       "        notRejected,\n",
       "        \u001b[33mOrderRequestId\u001b[39m(\u001b[32m\"\"\u001b[39m),\n",
       "        2020-12-15T18:56:00.998396Z,\n",
       "        notDone,\n",
       "        \u001b[32mNone\u001b[39m,\n",
       "        \u001b[32mNone\u001b[39m\n",
       "      )\n",
       "    ),\n",
       "    \u001b[33mTimeInterval\u001b[39m(2020-11-09T00:00:00Z, 2020-11-09T00:10:00Z)\n",
       "  )\n",
       ")\n",
       "\u001b[36mres6_12\u001b[39m: \u001b[32mOption\u001b[39m[\u001b[32mQueryResult\u001b[39m] = \u001b[33mSome\u001b[39m(\n",
       "  \u001b[33mQueryResult\u001b[39m(\n",
       "    \u001b[33mList\u001b[39m(\n",
       "      \u001b[33mBuyLimitOrder\u001b[39m(\n",
       "        \u001b[33mOrderId\u001b[39m(\u001b[32m\"3f90dabd-6e11-4427-9ac0-1026c39e79e9\"\u001b[39m),\n",
       "        open,\n",
       "        <BtcUsdPrice 1000.00>,\n",
       "        \u001b[33mProductId\u001b[39m(BTC, USD),\n",
       "        buy,\n",
       "        <BtcVolume 1.00000000>,\n",
       "        2020-12-15T18:56:00.998382Z,\n",
       "        notRejected,\n",
       "        \u001b[33mOrderRequestId\u001b[39m(\u001b[32m\"\"\u001b[39m),\n",
       "        2020-12-15T18:56:00.998396Z,\n",
       "        notDone,\n",
       "        \u001b[32mNone\u001b[39m,\n",
       "        \u001b[32mNone\u001b[39m\n",
       "      )\n",
       "    ),\n",
       "    \u001b[33mTimeInterval\u001b[39m(2020-11-09T00:00:00Z, 2020-11-09T00:10:00Z)\n",
       "  )\n",
       ")"
      ]
     },
     "execution_count": 7,
     "metadata": {},
     "output_type": "execute_result"
    }
   ],
   "source": [
    "import co.firstorderlabs.coinbaseml.fakebase.sql.{LocalStorage, QueryResult}\n",
    "import co.firstorderlabs.coinbaseml.fakebase.utils.OrderUtils\n",
    "import co.firstorderlabs.common.protos.events.{OrderSide, BuyLimitOrder, OrderStatus}\n",
    "import co.firstorderlabs.common.currency.Configs.ProductPrice.ProductVolume\n",
    "import co.firstorderlabs.common.currency.Configs.ProductPrice\n",
    "import co.firstorderlabs.common.types.Types.TimeInterval\n",
    "\n",
    "val startTime = Instant.parse(\"2020-11-09T00:00:00.0Z\")\n",
    "val endTime = Instant.parse(\"2020-11-09T00:10:00.0Z\")\n",
    "val timeInterval = TimeInterval(startTime, endTime)\n",
    "\n",
    "val lowerOrder = BuyLimitOrder(\n",
    "OrderUtils.generateOrderId,\n",
    "OrderStatus.open,\n",
    "new ProductPrice(Right(\"1000.00\")),\n",
    "ProductPrice.productId,\n",
    "OrderSide.buy,\n",
    "new ProductVolume(Right(\"1.000000\")),\n",
    "Instant.now\n",
    ")\n",
    "\n",
    "val queryResult = QueryResult(List(lowerOrder), timeInterval)\n",
    "LocalStorage.QueryResults.put(timeInterval, queryResult)\n",
    "LocalStorage.QueryResults.get(timeInterval)"
   ]
  },
  {
   "cell_type": "code",
   "execution_count": 8,
   "metadata": {},
   "outputs": [
    {
     "data": {
      "text/plain": [
       "\u001b[36msimulationStartRequest\u001b[39m: \u001b[32mSimulationStartRequest\u001b[39m = \u001b[33mSimulationStartRequest\u001b[39m(\n",
       "  2020-11-19T00:00:00Z,\n",
       "  2020-11-20T00:00:00Z,\n",
       "  \u001b[33mSome\u001b[39m(PT30S),\n",
       "  \u001b[32m100\u001b[39m,\n",
       "  <BtcVolume 1.00000000>,\n",
       "  <UsdVolume 10000.00>,\n",
       "  \u001b[32mNone\u001b[39m,\n",
       "  \u001b[32m100\u001b[39m,\n",
       "  \u001b[33mSome\u001b[39m(\u001b[33mObservationRequest\u001b[39m(\u001b[32m0\u001b[39m, false, \u001b[32mNone\u001b[39m)),\n",
       "  true,\n",
       "  evaluation,\n",
       "  BigQuery,\n",
       "  false\n",
       ")"
      ]
     },
     "execution_count": 8,
     "metadata": {},
     "output_type": "execute_result"
    }
   ],
   "source": [
    "val simulationStartRequest = new SimulationStartRequest(\n",
    "    startTime = Instant.parse(\"2020-11-19T00:00:00.00Z\"),\n",
    "    endTime = Instant.parse(\"2020-11-20T00:00:00.00Z\"),\n",
    "    timeDelta = Some(Duration.ofSeconds(30)),\n",
    "    numWarmUpSteps = 100,\n",
    "    initialProductFunds = new ProductVolume(Right(\"1.000000\")),\n",
    "    initialQuoteFunds = new QuoteVolume(Right(\"10000.00\")),\n",
    "    snapshotBufferSize = 100,\n",
    "    observationRequest = Some(new ObservationRequest),\n",
    "    enableProgressBar = true,\n",
    "    simulationType = SimulationType.evaluation \n",
    ")"
   ]
  },
  {
   "cell_type": "code",
   "execution_count": null,
   "metadata": {},
   "outputs": [
    {
     "name": "stderr",
     "output_type": "stream",
     "text": [
      "cmd0.sc:1: not found: value Exchange\n",
      "val res0 = Exchange.start(simulationStartRequest)\n",
      "           ^cmd0.sc:1: not found: value simulationStartRequest\n",
      "val res0 = Exchange.start(simulationStartRequest)\n",
      "                          ^Compilation Failed"
     ]
    },
    {
     "ename": "",
     "evalue": "",
     "output_type": "error",
     "traceback": [
      "Compilation Failed"
     ]
    }
   ],
   "source": [
    "Exchange.start(simulationStartRequest)"
   ]
  },
  {
   "cell_type": "code",
   "execution_count": null,
   "metadata": {},
   "outputs": [],
   "source": [
    "E"
   ]
  }
 ],
 "metadata": {
  "kernelspec": {
   "display_name": "Scala",
   "language": "scala",
   "name": "scala"
  },
  "language_info": {
   "codemirror_mode": "text/x-scala",
   "file_extension": ".scala",
   "mimetype": "text/x-scala",
   "name": "scala",
   "nbconvert_exporter": "script",
   "version": "2.13.2"
  }
 },
 "nbformat": 4,
 "nbformat_minor": 4
}
